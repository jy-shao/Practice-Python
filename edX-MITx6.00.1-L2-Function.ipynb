{
 "cells": [
  {
   "cell_type": "markdown",
   "metadata": {},
   "source": [
    "### Python Function\n",
    "\n",
    "### All code here are mostly from [edX MITx: 6.00.1x Introduction to Computer Science and Programming Using Python](https://courses.edx.org/courses/course-v1:MITx+6.00.1x+2T2016/course/#block-v1:MITx+6.00.1x+2T2016+type@chapter+block@0de4fecc5a9a4749923133fcf4de181f), with some additional tests."
   ]
  },
  {
   "cell_type": "markdown",
   "metadata": {},
   "source": [
    "### Function/Argument"
   ]
  },
  {
   "cell_type": "code",
   "execution_count": 5,
   "metadata": {},
   "outputs": [
    {
     "name": "stdout",
     "output_type": "stream",
     "text": [
      "i 3 is even:\n"
     ]
    },
    {
     "data": {
      "text/plain": [
       "False"
      ]
     },
     "execution_count": 5,
     "metadata": {},
     "output_type": "execute_result"
    }
   ],
   "source": [
    "def is_even(i):\n",
    "    print('i %d is even:' % i)\n",
    "    return i%2 == 0\n",
    "\n",
    "is_even(3)"
   ]
  },
  {
   "cell_type": "code",
   "execution_count": 8,
   "metadata": {
    "scrolled": true
   },
   "outputs": [
    {
     "data": {
      "text/plain": [
       "6"
      ]
     },
     "execution_count": 8,
     "metadata": {},
     "output_type": "execute_result"
    }
   ],
   "source": [
    "def f(x):\n",
    "    x += 1\n",
    "    return x\n",
    "\n",
    "x = 5\n",
    "f (x)"
   ]
  },
  {
   "cell_type": "markdown",
   "metadata": {},
   "source": [
    "### Scope Test"
   ]
  },
  {
   "cell_type": "code",
   "execution_count": 16,
   "metadata": {},
   "outputs": [
    {
     "name": "stdout",
     "output_type": "stream",
     "text": [
      "in g(x), x =  4\n"
     ]
    }
   ],
   "source": [
    "def g(x):\n",
    "    def h():\n",
    "        x = 'abc'\n",
    "    x += 1\n",
    "    print('in g(x), x = ',x)\n",
    "    \n",
    "    return x\n",
    "\n",
    "x = 3\n",
    "z = g(x)"
   ]
  },
  {
   "cell_type": "code",
   "execution_count": 2,
   "metadata": {},
   "outputs": [
    {
     "name": "stdout",
     "output_type": "stream",
     "text": [
      "Alice sea\n"
     ]
    }
   ],
   "source": [
    "def printName(fn, ln, reverse=False):\n",
    "    if reverse:\n",
    "        print(ln +','+fn)\n",
    "    else:\n",
    "        print(fn, ln)\n",
    "\n",
    "printName('Alice', 'sea')"
   ]
  },
  {
   "cell_type": "code",
   "execution_count": 14,
   "metadata": {},
   "outputs": [
    {
     "name": "stdout",
     "output_type": "stream",
     "text": [
      "sea,Alice\n"
     ]
    }
   ],
   "source": [
    "printName('Alice', 'sea', True)"
   ]
  },
  {
   "cell_type": "markdown",
   "metadata": {},
   "source": [
    "### Iteration & Recursion"
   ]
  },
  {
   "cell_type": "code",
   "execution_count": 17,
   "metadata": {},
   "outputs": [
    {
     "name": "stdout",
     "output_type": "stream",
     "text": [
      "count 1/b 2/result 1\n",
      "count 2/b 1/result 2\n",
      "count 3/b 0/result 3\n"
     ]
    },
    {
     "data": {
      "text/plain": [
       "3"
      ]
     },
     "execution_count": 17,
     "metadata": {},
     "output_type": "execute_result"
    }
   ],
   "source": [
    "# Multiplication - Iterative solution\n",
    "\n",
    "def mult_iter(a, b):\n",
    "    result = 0\n",
    "    count = 0\n",
    "    while b > 0:\n",
    "        result += a\n",
    "        b -= 1   \n",
    "        count += 1\n",
    "    \n",
    "        print( 'count %d/b %d/result %d' % (count, b, result))\n",
    "    return result\n",
    "\n",
    "mult_iter(1,3)"
   ]
  },
  {
   "cell_type": "code",
   "execution_count": 19,
   "metadata": {
    "scrolled": true
   },
   "outputs": [
    {
     "data": {
      "text/plain": [
       "3"
      ]
     },
     "execution_count": 19,
     "metadata": {},
     "output_type": "execute_result"
    }
   ],
   "source": [
    "# Multiplication - Recursive solution\n",
    "def mult(a,b):\n",
    "        if b == 1:\n",
    "            return a\n",
    "        else:\n",
    "            return a + mult(a, b-1)\n",
    "mult(1,3)"
   ]
  },
  {
   "cell_type": "code",
   "execution_count": 51,
   "metadata": {
    "collapsed": true
   },
   "outputs": [],
   "source": [
    "import time\n",
    "start_time = time.time()"
   ]
  },
  {
   "cell_type": "code",
   "execution_count": 56,
   "metadata": {},
   "outputs": [
    {
     "name": "stdout",
     "output_type": "stream",
     "text": [
      "Iteration time is: 0.000381 s\n"
     ]
    }
   ],
   "source": [
    "# Factorial - Iteration\n",
    "\n",
    "def fact_iter(n):\n",
    "    result = 1\n",
    "    for i in range(1, n+1):\n",
    "        result *= i \n",
    "    return result\n",
    "\n",
    "n_fact = pow(10,3)\n",
    "st = time.time()\n",
    "fact_iter(n_fact)\n",
    "nd = time.time()\n",
    "\n",
    "it_time = nd - st\n",
    "print('Iteration time is: %.6f s' % it_time)"
   ]
  },
  {
   "cell_type": "code",
   "execution_count": 57,
   "metadata": {},
   "outputs": [
    {
     "name": "stdout",
     "output_type": "stream",
     "text": [
      "Recursive time is: 0.000665 s\n"
     ]
    }
   ],
   "source": [
    "# Factorial - Recursive solution\n",
    "\n",
    "def fact(n):\n",
    "    return 1 if(n == 1) else n * fact(n - 1)\n",
    "\n",
    "n_fact = pow(10,3)\n",
    "st = time.time()\n",
    "fact(n_fact)\n",
    "nd = time.time()\n",
    "\n",
    "rc_time = nd - st\n",
    "print('Recursive time is: %.6f s' % rc_time)"
   ]
  },
  {
   "cell_type": "code",
   "execution_count": 58,
   "metadata": {},
   "outputs": [
    {
     "name": "stdout",
     "output_type": "stream",
     "text": [
      " 1.7453066332916145\n"
     ]
    }
   ],
   "source": [
    "print('', rc_time/it_time)"
   ]
  },
  {
   "cell_type": "markdown",
   "metadata": {},
   "source": [
    "This test show recursion takes more time than iteration in Python for factorial calculation."
   ]
  },
  {
   "cell_type": "markdown",
   "metadata": {},
   "source": [
    "### Inductive reasoning/Towers of Hanoi"
   ]
  },
  {
   "cell_type": "code",
   "execution_count": 64,
   "metadata": {
    "collapsed": true
   },
   "outputs": [
    {
     "name": "stdout",
     "output_type": "stream",
     "text": [
      "move from p1 to p3\n",
      "move from p1 to p2\n",
      "move from p3 to p2\n",
      "\n",
      "\n",
      "move from p1 to p3\n",
      "move from p2 to p1\n",
      "move from p2 to p3\n",
      "move from p1 to p3\n",
      "\n",
      "\n",
      "\n",
      "\n",
      "move from p1 to p2\n",
      "move from p3 to p2\n",
      "move from p3 to p1\n",
      "move from p2 to p1\n",
      "\n",
      "\n",
      "move from p3 to p2\n",
      "move from p1 to p3\n",
      "move from p1 to p2\n",
      "move from p3 to p2\n",
      "\n",
      "\n",
      "\n",
      "\n",
      "\n",
      "\n",
      "None\n"
     ]
    }
   ],
   "source": [
    "def printMove(fr, to):\n",
    "    print ('move from ' + str(fr)+' to '+str(to))\n",
    "\n",
    "def Towers(n, fr, to, spare):\n",
    "    if n == 1:\n",
    "        printMove(fr, to)\n",
    "    else:\n",
    "        Towers(n-1, fr, spare, to)\n",
    "        Towers(1, fr, to, spare)\n",
    "        Towers(n-1, spare, to, fr)\n",
    "        print('\\n')\n",
    "\n",
    "print(Towers(4, 'p1', 'p2', 'p3'))"
   ]
  },
  {
   "cell_type": "markdown",
   "metadata": {},
   "source": [
    "### Fibonacci\n",
    "\n",
    "f(n) = f(n-1) + f(n-2)\n",
    "\n",
    "f(0) = 1\n",
    "f(1) = 1"
   ]
  },
  {
   "cell_type": "code",
   "execution_count": 70,
   "metadata": {},
   "outputs": [
    {
     "data": {
      "text/plain": [
       "3"
      ]
     },
     "execution_count": 70,
     "metadata": {},
     "output_type": "execute_result"
    }
   ],
   "source": [
    "def fib(x):\n",
    "    if x == 0 or x == 1:\n",
    "        return 1\n",
    "    else:\n",
    "        return fib(x-1) + fib(x-2)\n",
    "    \n",
    "fib(3)"
   ]
  },
  {
   "cell_type": "markdown",
   "metadata": {},
   "source": [
    "### Recursion on str: Palindrome"
   ]
  },
  {
   "cell_type": "code",
   "execution_count": 85,
   "metadata": {
    "collapsed": true
   },
   "outputs": [],
   "source": [
    "def isPalindrome(s):\n",
    "    def toChars(s):\n",
    "        s = s.lower()\n",
    "        ans = ''\n",
    "        for c in s:\n",
    "            if c in 'abcdefghijklmnopqrstuvwxyz':\n",
    "                ans = ans + 'c'\n",
    "            return ans\n",
    "    \n",
    "    def isPal(s):\n",
    "        if len(s)<=1:\n",
    "            return True\n",
    "        else:\n",
    "            return s[0] == s[-1] and isPal(s[1:-1])\n",
    "        \n",
    "    return isPal(toChars(s))"
   ]
  },
  {
   "cell_type": "code",
   "execution_count": 86,
   "metadata": {},
   "outputs": [
    {
     "name": "stdout",
     "output_type": "stream",
     "text": [
      "True\n"
     ]
    }
   ],
   "source": [
    "print(isPalindrome('eve'))"
   ]
  },
  {
   "cell_type": "code",
   "execution_count": 89,
   "metadata": {},
   "outputs": [
    {
     "name": "stdout",
     "output_type": "stream",
     "text": [
      "True\n"
     ]
    }
   ],
   "source": [
    "print(isPalindrome('an'))\n",
    "# not sure about the result here"
   ]
  },
  {
   "cell_type": "markdown",
   "metadata": {},
   "source": [
    "### Modules and Files"
   ]
  },
  {
   "cell_type": "code",
   "execution_count": 92,
   "metadata": {},
   "outputs": [
    {
     "name": "stdout",
     "output_type": "stream",
     "text": [
      "Enter name: Alice\n",
      "Enter name: Lily\n"
     ]
    }
   ],
   "source": [
    "# namehandle\n",
    "\n",
    "nameHandle = open('HandleTest.csv', 'w')\n",
    "\n",
    "for i in range(2):\n",
    "    name = input('Enter name: ')\n",
    "    nameHandle.write(name + '\\t')\n",
    "nameHandle.close()"
   ]
  },
  {
   "cell_type": "code",
   "execution_count": 93,
   "metadata": {},
   "outputs": [
    {
     "name": "stdout",
     "output_type": "stream",
     "text": [
      "Alice\tLily\t\n"
     ]
    }
   ],
   "source": [
    "nameHandle = open('HandleTest.csv', 'r')\n",
    "\n",
    "for ln in nameHandle:\n",
    "    print(ln)\n",
    "nameHandle.close()"
   ]
  },
  {
   "cell_type": "code",
   "execution_count": null,
   "metadata": {
    "collapsed": true
   },
   "outputs": [],
   "source": []
  }
 ],
 "metadata": {
  "anaconda-cloud": {},
  "kernelspec": {
   "display_name": "Python [conda env:carnd-term1]",
   "language": "python",
   "name": "conda-env-carnd-term1-py"
  },
  "language_info": {
   "codemirror_mode": {
    "name": "ipython",
    "version": 3
   },
   "file_extension": ".py",
   "mimetype": "text/x-python",
   "name": "python",
   "nbconvert_exporter": "python",
   "pygments_lexer": "ipython3",
   "version": "3.5.2"
  }
 },
 "nbformat": 4,
 "nbformat_minor": 2
}
